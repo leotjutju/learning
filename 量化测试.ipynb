{
 "cells": [
  {
   "cell_type": "code",
   "id": "initial_id",
   "metadata": {
    "collapsed": true,
    "ExecuteTime": {
     "end_time": "2024-12-02T07:58:49.412210Z",
     "start_time": "2024-12-02T07:58:49.376065Z"
    }
   },
   "source": [
    "import yfinance as yf\n",
    "\n",
    "# 获取苹果公司（AAPL）的历史股价数据\n",
    "data = yf.download('AAPL', start='2020-01-01', end='2023-07-01')\n",
    "print(data.head())"
   ],
   "outputs": [
    {
     "name": "stderr",
     "output_type": "stream",
     "text": [
      "[*********************100%***********************]  1 of 1 completed"
     ]
    },
    {
     "name": "stdout",
     "output_type": "stream",
     "text": [
      "Price       Adj Close      Close       High        Low       Open     Volume\n",
      "Ticker           AAPL       AAPL       AAPL       AAPL       AAPL       AAPL\n",
      "Date                                                                        \n",
      "2020-01-02  72.796005  75.087502  75.150002  73.797501  74.059998  135480400\n",
      "2020-01-03  72.088303  74.357498  75.144997  74.125000  74.287498  146322800\n",
      "2020-01-06  72.662712  74.949997  74.989998  73.187500  73.447502  118387200\n",
      "2020-01-07  72.320976  74.597504  75.224998  74.370003  74.959999  108872000\n",
      "2020-01-08  73.484360  75.797501  76.110001  74.290001  74.290001  132079200\n"
     ]
    },
    {
     "name": "stderr",
     "output_type": "stream",
     "text": [
      "\n"
     ]
    }
   ],
   "execution_count": 2
  },
  {
   "metadata": {
    "ExecuteTime": {
     "end_time": "2024-12-02T07:42:15.226768Z",
     "start_time": "2024-12-02T07:41:42.090154Z"
    }
   },
   "cell_type": "code",
   "source": "pip install yfinance",
   "id": "15f01002f26824c2",
   "outputs": [
    {
     "name": "stdout",
     "output_type": "stream",
     "text": [
      "Collecting yfinance\r\n",
      "  Downloading yfinance-0.2.50-py2.py3-none-any.whl.metadata (5.5 kB)\r\n",
      "Requirement already satisfied: pandas>=1.3.0 in /opt/anaconda3/lib/python3.8/site-packages (from yfinance) (2.0.3)\r\n",
      "Requirement already satisfied: numpy>=1.16.5 in /opt/anaconda3/lib/python3.8/site-packages (from yfinance) (1.24.3)\r\n",
      "Requirement already satisfied: requests>=2.31 in /opt/anaconda3/lib/python3.8/site-packages (from yfinance) (2.32.2)\r\n",
      "Collecting multitasking>=0.0.7 (from yfinance)\r\n",
      "  Downloading multitasking-0.0.11-py3-none-any.whl.metadata (5.5 kB)\r\n",
      "Requirement already satisfied: lxml>=4.9.1 in /opt/anaconda3/lib/python3.8/site-packages (from yfinance) (5.2.1)\r\n",
      "Requirement already satisfied: platformdirs>=2.0.0 in /opt/anaconda3/lib/python3.8/site-packages (from yfinance) (3.10.0)\r\n",
      "Requirement already satisfied: pytz>=2022.5 in /opt/anaconda3/lib/python3.8/site-packages (from yfinance) (2024.1)\r\n",
      "Requirement already satisfied: frozendict>=2.3.4 in /opt/anaconda3/lib/python3.8/site-packages (from yfinance) (2.4.2)\r\n",
      "Collecting peewee>=3.16.2 (from yfinance)\r\n",
      "  Downloading peewee-3.17.8.tar.gz (948 kB)\r\n",
      "\u001B[2K     \u001B[90m━━━━━━━━━━━━━━━━━━━━━━━━━━━━━━━━━━━━━━━\u001B[0m \u001B[32m948.2/948.2 kB\u001B[0m \u001B[31m1.6 MB/s\u001B[0m eta \u001B[36m0:00:00\u001B[0ma \u001B[36m0:00:01\u001B[0m\r\n",
      "\u001B[?25h  Installing build dependencies ... \u001B[?25ldone\r\n",
      "\u001B[?25h  Getting requirements to build wheel ... \u001B[?25ldone\r\n",
      "\u001B[?25h  Preparing metadata (pyproject.toml) ... \u001B[?25ldone\r\n",
      "\u001B[?25hRequirement already satisfied: beautifulsoup4>=4.11.1 in /opt/anaconda3/lib/python3.8/site-packages (from yfinance) (4.12.3)\r\n",
      "Collecting html5lib>=1.1 (from yfinance)\r\n",
      "  Downloading html5lib-1.1-py2.py3-none-any.whl.metadata (16 kB)\r\n",
      "Requirement already satisfied: soupsieve>1.2 in /opt/anaconda3/lib/python3.8/site-packages (from beautifulsoup4>=4.11.1->yfinance) (2.5)\r\n",
      "Requirement already satisfied: six>=1.9 in /opt/anaconda3/lib/python3.8/site-packages (from html5lib>=1.1->yfinance) (1.16.0)\r\n",
      "Requirement already satisfied: webencodings in /opt/anaconda3/lib/python3.8/site-packages (from html5lib>=1.1->yfinance) (0.5.1)\r\n",
      "Requirement already satisfied: python-dateutil>=2.8.2 in /opt/anaconda3/lib/python3.8/site-packages (from pandas>=1.3.0->yfinance) (2.9.0.post0)\r\n",
      "Requirement already satisfied: tzdata>=2022.1 in /opt/anaconda3/lib/python3.8/site-packages (from pandas>=1.3.0->yfinance) (2023.3)\r\n",
      "Requirement already satisfied: charset-normalizer<4,>=2 in /opt/anaconda3/lib/python3.8/site-packages (from requests>=2.31->yfinance) (2.0.4)\r\n",
      "Requirement already satisfied: idna<4,>=2.5 in /opt/anaconda3/lib/python3.8/site-packages (from requests>=2.31->yfinance) (3.7)\r\n",
      "Requirement already satisfied: urllib3<3,>=1.21.1 in /opt/anaconda3/lib/python3.8/site-packages (from requests>=2.31->yfinance) (1.26.19)\r\n",
      "Requirement already satisfied: certifi>=2017.4.17 in /opt/anaconda3/lib/python3.8/site-packages (from requests>=2.31->yfinance) (2024.7.4)\r\n",
      "Downloading yfinance-0.2.50-py2.py3-none-any.whl (102 kB)\r\n",
      "\u001B[2K   \u001B[90m━━━━━━━━━━━━━━━━━━━━━━━━━━━━━━━━━━━━━━━\u001B[0m \u001B[32m102.2/102.2 kB\u001B[0m \u001B[31m828.2 kB/s\u001B[0m eta \u001B[36m0:00:00\u001B[0ma \u001B[36m0:00:01\u001B[0m\r\n",
      "\u001B[?25hDownloading html5lib-1.1-py2.py3-none-any.whl (112 kB)\r\n",
      "\u001B[2K   \u001B[90m━━━━━━━━━━━━━━━━━━━━━━━━━━━━━━━━━━━━━━━━\u001B[0m \u001B[32m112.2/112.2 kB\u001B[0m \u001B[31m15.0 MB/s\u001B[0m eta \u001B[36m0:00:00\u001B[0m\r\n",
      "\u001B[?25hDownloading multitasking-0.0.11-py3-none-any.whl (8.5 kB)\r\n",
      "Building wheels for collected packages: peewee\r\n",
      "  Building wheel for peewee (pyproject.toml) ... \u001B[?25ldone\r\n",
      "\u001B[?25h  Created wheel for peewee: filename=peewee-3.17.8-cp38-cp38-macosx_11_0_arm64.whl size=274314 sha256=c30434e43d398878fa41296c3564fb559204558383240b7b2c8781a724d2a63b\r\n",
      "  Stored in directory: /Users/zhuanzhuan/Library/Caches/pip/wheels/9f/cb/64/f38f9e4b9ef397c781cbd58e530f31841cb0a3740b5109bbb8\r\n",
      "Successfully built peewee\r\n",
      "Installing collected packages: peewee, multitasking, html5lib, yfinance\r\n",
      "Successfully installed html5lib-1.1 multitasking-0.0.11 peewee-3.17.8 yfinance-0.2.50\r\n",
      "Note: you may need to restart the kernel to use updated packages.\n"
     ]
    }
   ],
   "execution_count": 4
  },
  {
   "metadata": {},
   "cell_type": "code",
   "outputs": [],
   "execution_count": null,
   "source": "",
   "id": "75dc13e4103236bb"
  }
 ],
 "metadata": {
  "kernelspec": {
   "display_name": "Python 3",
   "language": "python",
   "name": "python3"
  },
  "language_info": {
   "codemirror_mode": {
    "name": "ipython",
    "version": 2
   },
   "file_extension": ".py",
   "mimetype": "text/x-python",
   "name": "python",
   "nbconvert_exporter": "python",
   "pygments_lexer": "ipython2",
   "version": "2.7.6"
  }
 },
 "nbformat": 4,
 "nbformat_minor": 5
}
